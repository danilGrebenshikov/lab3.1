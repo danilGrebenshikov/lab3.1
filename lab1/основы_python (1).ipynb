{
 "cells": [
  {
   "cell_type": "markdown",
   "metadata": {
    "id": "M-DGa20PaHnu"
   },
   "source": [
    "#Задача 1\n",
    "Написать функцию на вход которой подается строка, состоящая из латинских букв.\n",
    "Функция должна вернуть количество гласных букв (a, e, i, o, u) в этой строке. Написать тесты для кода"
   ]
  },
  {
   "cell_type": "code",
   "execution_count": 3,
   "metadata": {
    "id": "XvX8X_JJ6PCb"
   },
   "outputs": [],
   "source": [
    "def count_vowels(s):\n",
    "    vowels = ['a', 'e', 'i', 'o', 'u']\n",
    "    count = 0\n",
    "    for char in s:\n",
    "        if char.lower() in vowels:\n",
    "            count += 1\n",
    "    return count\n",
    "\n",
    "# Тесты\n",
    "def test_count_vowels():\n",
    "    assert count_vowels(\"Hello\") == 2\n",
    "    assert count_vowels(\"Python\") == 1\n",
    "    assert count_vowels(\"AEIOU\") == 5\n",
    "    assert count_vowels(\"\") == 0\n",
    "    assert count_vowels(\"bcr\") == 0\n",
    "    assert count_vowels(\"word\") == 1\n",
    "\n",
    "test_count_vowels()"
   ]
  },
  {
   "cell_type": "markdown",
   "metadata": {
    "id": "t2ClV_Y0bbr6"
   },
   "source": [
    "# Задача 2\n",
    "Написать функцию на вход, которой подается строка. Функция должна вернуть true, если\n",
    "каждый символ в строке встречается только 1 раз, иначе должна вернуть false. Написать тесты для кода"
   ]
  },
  {
   "cell_type": "code",
   "execution_count": null,
   "metadata": {
    "id": "FppbECao6VIz"
   },
   "outputs": [],
   "source": [
    "def unique_chars(s):\n",
    "    return len(set(s)) == len(s)\n",
    "\n",
    "# Тесты\n",
    "def test_unique_chars():\n",
    "    assert unique_chars(\"abcde\") == True\n",
    "    assert unique_chars(\"hello\") == False\n",
    "    assert unique_chars(\"Python\") == True\n",
    "    assert unique_chars(\"12345\") == True\n",
    "    assert unique_chars(\"\") == True\n",
    "    assert unique_chars(\"aabbcc\") == False\n",
    "\n",
    "test_unique_chars()"
   ]
  },
  {
   "cell_type": "markdown",
   "metadata": {
    "id": "udRiIK1cdt6E"
   },
   "source": [
    "# Задача 3\n",
    "Написать функцию, которая принимает положительное число и возвращает количество\n",
    "бит равных 1 в этом числе. Написать тесты для кода"
   ]
  },
  {
   "cell_type": "code",
   "execution_count": null,
   "metadata": {
    "id": "6tkfDJRz6dp_"
   },
   "outputs": [],
   "source": [
    "def count_bits_set(num):\n",
    "    count = 0\n",
    "    while num:\n",
    "        if num & 1:\n",
    "            count += 1\n",
    "        num >>= 1\n",
    "    return count\n",
    "\n",
    "# Тесты\n",
    "def test_count_bits_set():\n",
    "    assert count_bits_set(5) == 2       # Бинарное представление числа 5: 101 (2 бита равных 1)\n",
    "    assert count_bits_set(15) == 4      # Бинарное представление числа 15: 1111 (4 бита равных 1)\n",
    "    assert count_bits_set(255) == 8     # Бинарное представление числа 255: 11111111 (8 бит равных 1)\n",
    "    assert count_bits_set(0) == 0       # Для числа 0 нет бит равных 1\n",
    "\n",
    "test_count_bits_set()"
   ]
  },
  {
   "cell_type": "markdown",
   "metadata": {
    "id": "26dDUz-Ae17N"
   },
   "source": [
    "# Задача 4\n",
    "Написать функцию, которая принимает положительное число. Функция должна вернуть то,\n",
    "сколько раз необходимо перемножать цифры числа или результат перемножения, чтобы\n",
    "получилось число состоящее из одной цифры.\n",
    "Например, для входного числа:\n",
    "· 39 функция должна вернуть 3, так как 3*9=27 => 2*7=14 => 1*4=4\n",
    "· 4 функция должна вернуть 0, так как число уже состоит из одной цифры\n",
    "· 999 функция должна вернуть 4, так как 9*9*9=729 => 7*2*9=126 => 1*2*6=12 =>\n",
    "1*2=2. Написать тесты для кода"
   ]
  },
  {
   "cell_type": "code",
   "execution_count": null,
   "metadata": {
    "id": "BH1A_Mgi6i4G"
   },
   "outputs": [],
   "source": [
    "def mult_digits(num):\n",
    "    count = 0\n",
    "    while num >= 10:\n",
    "        product = 1\n",
    "        while num:\n",
    "            product *= num % 10\n",
    "            num //= 10\n",
    "        num = product\n",
    "        count += 1\n",
    "    return count\n",
    "\n",
    "# Тесты\n",
    "def test_mult_digits():\n",
    "    assert mult_digits(39) == 3\n",
    "    assert mult_digits(4) == 0\n",
    "    assert mult_digits(999) == 4\n",
    "    assert mult_digits(123456) == 2\n",
    "    assert mult_digits(111) == 1\n",
    "    assert mult_digits(1) == 0\n",
    "\n",
    "test_mult_digits()"
   ]
  },
  {
   "cell_type": "markdown",
   "metadata": {
    "id": "0nS-kIa8g8vd"
   },
   "source": [
    "# Задача 5\n",
    "Написать функцию, которая принимает два целочисленных вектора одинаковой длины и\n",
    "возвращает среднеквадратическое отклонение двух векторов. Написать тесты для кода"
   ]
  },
  {
   "cell_type": "code",
   "execution_count": null,
   "metadata": {
    "id": "8iphx4LM6xbx"
   },
   "outputs": [],
   "source": [
    "import math\n",
    "\n",
    "def std_deviation(v1, v2):\n",
    "    if len(v1) != len(v2):\n",
    "        raise ValueError(\"Векторы должны быть одинаковой длины\")\n",
    "    \n",
    "    n = len(v1)\n",
    "    mean_diff_squared = sum((v1[i] - v2[i]) ** 2 for i in range(n)) / n\n",
    "    return math.sqrt(mean_diff_squared)\n",
    "\n",
    "# Тесты\n",
    "def test_std_deviation():\n",
    "    assert math.isclose(std_deviation([1, 2, 3], [4, 5, 6]), math.sqrt(9), rel_tol=1e-9)\n",
    "    assert math.isclose(std_deviation([0, 0, 0, 0], [1, 2, 3, 4]), math.sqrt(5), rel_tol=1e-9)\n",
    "\n",
    "try:\n",
    "    test_std_deviation()\n",
    "    print(\"Все тесты пройдены успешно!\")\n",
    "except AssertionError as e:\n",
    "    print(f\"Тест не пройден: {e}\")"
   ]
  },
  {
   "cell_type": "markdown",
   "metadata": {
    "id": "vpIPKL439zkw"
   },
   "source": [
    "# Задача 6\n",
    "Написать функцию, принимающая целое положительное число. Функция должна вернуть\n",
    "строку вида “(n1**p1)(n2**p2)…(nk**pk)” представляющая разложение числа на простые\n",
    "множители (если pi == 1, то выводить только ni).\n",
    "Например, для числа 86240 функция должна вернуть “(2**5)(5)(7**2)(11)”. Написать тесты для кода"
   ]
  },
  {
   "cell_type": "code",
   "execution_count": null,
   "metadata": {
    "id": "pFebmcZk94Jw"
   },
   "outputs": [],
   "source": [
    "def prime_factors(n):\n",
    "    i = 2\n",
    "    factors = []\n",
    "    \n",
    "    while i * i <= n:\n",
    "        if n % i:\n",
    "            i += 1\n",
    "        else:\n",
    "            n //= i\n",
    "            factors.append(i)\n",
    "    \n",
    "    if n > 1:\n",
    "        factors.append(n)\n",
    "    \n",
    "    result = \"\"\n",
    "    current = factors[0]\n",
    "    count = 1\n",
    "    \n",
    "    for i in range(1, len(factors)):\n",
    "        if factors[i] == current:\n",
    "            count += 1\n",
    "        else:\n",
    "            if count == 1:\n",
    "                result += f\"({current})\"\n",
    "            else:\n",
    "                result += f\"({current}**{count})\"\n",
    "            current = factors[i]\n",
    "            count = 1\n",
    "    \n",
    "    if count == 1:\n",
    "        result += f\"({current})\"\n",
    "    else:\n",
    "        result += f\"({current}**{count})\"\n",
    "    \n",
    "    return result\n",
    "\n",
    "# Тесты\n",
    "def test_prime_factors():\n",
    "    assert prime_factors(20) == \"(2**2)(5)\"\n",
    "    assert prime_factors(86240) == \"(2**5)(5)(7**2)(11)\"\n",
    "    assert prime_factors(123456) == \"(2**6)(3)(643)\"\n",
    "    assert prime_factors(7) == \"(7)\"\n",
    "    assert prime_factors(1) == \"(1)\"\n",
    "    print(\"Все тесты пройдены успешно!\")\n",
    "\n",
    "test_prime_factors()"
   ]
  },
  {
   "cell_type": "markdown",
   "metadata": {
    "id": "ps2s0BudX7A2"
   },
   "source": [
    "Написать функцию, принимающая целое число n, задающее количество кубиков. Функция должна определить, можно ли из данного кол-ва кубиков построить пирамиду, то есть можно ли представить число n как 1^2+2^2+3^2+…+k^2. Если можно, то функция должна вернуть k, иначе строку “It is impossible”. Написать тесты для кода"
   ]
  },
  {
   "cell_type": "code",
   "execution_count": null,
   "metadata": {
    "id": "3YPjEXxhX_YT"
   },
   "outputs": [],
   "source": [
    "def is_pyramid_possible(n):\n",
    "    total = 0\n",
    "    k = 1\n",
    "    \n",
    "    while total < n:\n",
    "        total += k**2\n",
    "        if total == n:\n",
    "            return k\n",
    "        k += 1\n",
    "    \n",
    "    return \"It is impossible\""
   ]
  },
  {
   "cell_type": "markdown",
   "metadata": {
    "id": "KeKgmIdAQMEJ"
   },
   "source": [
    "# Задача 8\n",
    "Функция принимает на вход положительное число и определяет является ли оно сбалансированным, т.е. сумма цифр до средних равна сумме цифр после. Средними в случае нечетного числа цифр считать одну цифру, в случае четного - две средних. Написать тесты для кода"
   ]
  },
  {
   "cell_type": "code",
   "execution_count": 5,
   "metadata": {
    "id": "gMAAqtqlQrZt"
   },
   "outputs": [],
   "source": [
    "def is_balanced_number(n):\n",
    "    digits = [int(x) for x in str(n)]\n",
    "    length = len(digits)\n",
    "    \n",
    "    if length % 2 == 0:\n",
    "        left_sum = sum(digits[:length // 2])\n",
    "        right_sum = sum(digits[length // 2:])\n",
    "    else:\n",
    "        left_sum = sum(digits[:length // 2])\n",
    "        right_sum = sum(digits[(length // 2) + 1:])\n",
    "    \n",
    "    return left_sum == right_sum"
   ]
  }
 ],
 "metadata": {
  "colab": {
   "provenance": []
  },
  "kernelspec": {
   "display_name": "Python 3 (ipykernel)",
   "language": "python",
   "name": "python3"
  },
  "language_info": {
   "codemirror_mode": {
    "name": "ipython",
    "version": 3
   },
   "file_extension": ".py",
   "mimetype": "text/x-python",
   "name": "python",
   "nbconvert_exporter": "python",
   "pygments_lexer": "ipython3",
   "version": "3.11.2"
  }
 },
 "nbformat": 4,
 "nbformat_minor": 4
}
