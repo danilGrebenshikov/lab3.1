{
 "cells": [
  {
   "cell_type": "markdown",
   "metadata": {
    "id": "vC84e9kzyxPy"
   },
   "source": [
    "<h1>Импорт библиотек"
   ]
  },
  {
   "cell_type": "code",
   "execution_count": 3,
   "metadata": {
    "id": "cgKeNegmQG5S"
   },
   "outputs": [],
   "source": [
    "import numpy as np\n",
    "import matplotlib.pyplot as plt"
   ]
  },
  {
   "cell_type": "markdown",
   "metadata": {
    "id": "qFM9uVU2x4Ls"
   },
   "source": [
    "<h1>Задача 1. Дан набор из $p$ матриц размерностью $(n, n)$ и $p$ векторов размерностью $(n, 1)$, найти сумму произведений матриц на векторы. Написать тесты для кода"
   ]
  },
  {
   "cell_type": "code",
   "execution_count": null,
   "metadata": {
    "id": "IAbUvEiYyWFF"
   },
   "outputs": [],
   "source": [
    "import numpy as np\n",
    "import matplotlib.pyplot as plt\n",
    "\n",
    "def sum_prod(X, V):\n",
    "    '''\n",
    "    X - матрицы (n, n)\n",
    "    V - векторы (n, 1)\n",
    "    Гарантируется, что len(X) == len(V)\n",
    "    '''\n",
    "    sum_result = 0\n",
    "    \n",
    "    for i in range(len(X)):\n",
    "        matrix = X[i]\n",
    "        vector = V[i]\n",
    "        product = np.dot(matrix, vector)\n",
    "        sum_result += product\n",
    "    \n",
    "    return sum_result\n",
    "\n",
    "# Тесты\n",
    "def test_sum_prod():\n",
    "    matrix1 = np.array([[1, 2], [3, 4]])\n",
    "    matrix2 = np.array([[5, 6], [7, 8]])\n",
    "    vector1 = np.array([[1], [2]])\n",
    "    vector2 = np.array([[3], [4]])\n",
    "    \n",
    "    matrices = [matrix1, matrix2]\n",
    "    vectors = [vector1, vector2]\n",
    "    \n",
    "    assert sum_prod(matrices, vectors) == 70\n",
    "\n",
    "if __name__ == \"__main__\":\n",
    "    test_sum_prod()\n",
    "    print(\"тесты прошли успешно!\")"
   ]
  },
  {
   "cell_type": "markdown",
   "metadata": {
    "id": "TKwPG4fIy2w4"
   },
   "source": [
    "<h1>Задача 2. Дана матрица M, напишите функцию, которая бинаризует матрицу по некоторому threshold (то есть, все значения большие threshold становятся равными 1, иначе 0). Напишите тесты для кода"
   ]
  },
  {
   "cell_type": "code",
   "execution_count": null,
   "metadata": {
    "id": "KQDNMgsjRNH7"
   },
   "outputs": [],
   "source": [
    "import numpy as np\n",
    "\n",
    "def binarize(M, threshold=0.5):\n",
    "    '''\n",
    "    Функция бинаризует матрицу M по заданному порогу threshold.\n",
    "    '''\n",
    "    binary_M = np.where(M > threshold, 1, 0)\n",
    "    return binary_M\n",
    "\n",
    "# Тесты\n",
    "def test_binarize():\n",
    "    M = np.array([[0.1, 0.7, 0.3], [0.8, 0.6, 0.4]])\n",
    "    threshold = 0.5\n",
    "    expected_result = np.array([[0, 1, 0], [1, 1, 0]])\n",
    "    \n",
    "    assert np.array_equal(binarize(M, threshold), expected_result)\n",
    "\n",
    "if __name__ == \"__main__\":\n",
    "    test_binarize()\n",
    "    print(\"тесты прошли успешно!\")"
   ]
  },
  {
   "cell_type": "markdown",
   "metadata": {
    "id": "IY5L-h-7zWhN"
   },
   "source": [
    "<h1>Задача 3. Напишите функцию, которая возвращает уникальные элементы из каждой строки матрицы. Напишите такую же функцию, но для столбцов. Напишите тесты для кода"
   ]
  },
  {
   "cell_type": "code",
   "execution_count": null,
   "metadata": {
    "id": "-8dEZhR0SBC-"
   },
   "outputs": [],
   "source": [
    "import numpy as np\n",
    "\n",
    "def unique_rows(mat):\n",
    "    '''\n",
    "    Функция возвращает уникальные элементы из каждой строки матрицы.\n",
    "    '''\n",
    "    unique_elements_rows = [np.unique(row) for row in mat]\n",
    "    return unique_elements_rows\n",
    "\n",
    "def unique_columns(mat):\n",
    "    '''\n",
    "    Функция возвращает уникальные элементы из каждого столбца матрицы.\n",
    "    '''\n",
    "    unique_elements_columns = [np.unique(col) for col in mat.T]\n",
    "    return unique_elements_columns\n",
    "\n",
    "# Тесты\n",
    "def test_unique_rows():\n",
    "    matrix = np.array([[1, 2, 3, 2], [4, 1, 6, 4], [2, 2, 3, 3]])\n",
    "    expected_result = [[1, 2, 3], [1, 4, 6], [2, 3]]\n",
    "    \n",
    "    assert unique_rows(matrix) == expected_result\n",
    "\n",
    "def test_unique_columns():\n",
    "    matrix = np.array([[1, 2, 3, 2], [4, 1, 6, 4], [2, 2, 3, 3]])\n",
    "    expected_result = [[1, 2, 4], [1, 2], [3, 6, 3]]\n",
    "    \n",
    "    assert unique_columns(matrix) == expected_result\n",
    "\n",
    "if __name__ == \"__main__\":\n",
    "    test_unique_rows()\n",
    "    test_unique_columns()\n",
    "    print(\"тесты прошли успешно!\")"
   ]
  },
  {
   "cell_type": "markdown",
   "metadata": {
    "id": "roYAlo4Jz-lH"
   },
   "source": [
    "<h1>Задача 4. Напишите функцию, которая заполняет матрицу с размерами $(m, n)$ случайными числами, распределенными по нормальному закону. Затем считает мат. ожидание и дисперсию для каждого из столбцов и строк, а также строит для каждой строки и столбца гистограмму значений (использовать функцию hist из модуля matplotlib.plot)"
   ]
  },
  {
   "cell_type": "code",
   "execution_count": null,
   "metadata": {
    "id": "nZK_71hMSQzv"
   },
   "outputs": [],
   "source": [
    "import numpy as np\n",
    "import matplotlib.pyplot as plt\n",
    "\n",
    "def normal_random_matrix(m, n):\n",
    "    '''\n",
    "    Функция заполняет матрицу размером (m, n) случайными числами, распределенными по нормальному закону.\n",
    "    '''\n",
    "    mat = np.random.randn(m, n)\n",
    "    return mat\n",
    "\n",
    "def calculate_mean_and_variance(mat):\n",
    "    '''\n",
    "    Функция вычисляет мат. ожидание и дисперсию для каждого столбца и строки матрицы.\n",
    "    '''\n",
    "    row_means = np.mean(mat, axis=1)\n",
    "    row_variances = np.var(mat, axis=1)\n",
    "    \n",
    "    col_means = np.mean(mat, axis=0)\n",
    "    col_variances = np.var(mat, axis=0)\n",
    "    \n",
    "    return row_means, row_variances, col_means, col_variances\n",
    "\n",
    "def plot_histograms(mat):\n",
    "    '''\n",
    "    Функция строит гистограмму значений для каждой строки и столбца матрицы.\n",
    "    '''\n",
    "    for i in range(mat.shape[0]):\n",
    "        plt.hist(mat[i], bins=20)\n",
    "        plt.title(f\"Histogram for Row {i+1}\")\n",
    "        plt.show()\n",
    "    \n",
    "    for j in range(mat.shape[1]):\n",
    "        plt.hist(mat[:,j], bins=20)\n",
    "        plt.title(f\"Histogram for Column {j+1}\")\n",
    "        plt.show()\n",
    "\n",
    "# Создание матрицы с нормально распределенными случайными числами\n",
    "mat = normal_random_matrix(5, 3)\n",
    "\n",
    "# Вычисление мат. ожидания и дисперсии для каждого столбца и строки\n",
    "row_means, row_variances, col_means, col_variances = calculate_mean_and_variance(mat)\n",
    "\n",
    "# Построение гистограмм значений для каждой строки и столбца\n",
    "plot_histograms(mat)\n",
    "\n",
    "print(\"Row means:\", row_means)\n",
    "print(\"Row variances:\", row_variances)\n",
    "print(\"Column means:\", col_means)\n",
    "print(\"Column variances:\", col_variances)"
   ]
  },
  {
   "cell_type": "markdown",
   "metadata": {
    "id": "BDyATNdM0dJ2"
   },
   "source": [
    "<h1>Задача 5. Напишите функцию, которая заполняет матрицу $(m, n)$ в шахматном порядке заданными числами $a$ и $b$. Напишите тесты для кода"
   ]
  },
  {
   "cell_type": "code",
   "execution_count": null,
   "metadata": {
    "id": "RWNJYWQGecS6"
   },
   "outputs": [],
   "source": [
    "import numpy as np\n",
    "\n",
    "def chess(m, n, a, b):\n",
    "    '''\n",
    "    Функция заполняет матрицу размером (m, n) в шахматном порядке числами a и b.\n",
    "    '''\n",
    "    mat = np.zeros((m, n))\n",
    "    mat[::2, ::2] = a\n",
    "    mat[1::2, 1::2] = a\n",
    "    mat[::2, 1::2] = b\n",
    "    mat[1::2, ::2] = b\n",
    "    return mat\n",
    "\n",
    "# Тесты\n",
    "def test_chess():\n",
    "    m = 5\n",
    "    n = 4\n",
    "    a = 1\n",
    "    b = 2\n",
    "    expected_result = np.array([[1, 2, 1, 2],\n",
    "                                [2, 1, 2, 1],\n",
    "                                [1, 2, 1, 2],\n",
    "                                [2, 1, 2, 1],\n",
    "                                [1, 2, 1, 2]])\n",
    "    \n",
    "    assert np.array_equal(chess(m, n, a, b), expected_result)\n",
    "\n",
    "if __name__ == \"__main__\":\n",
    "    test_chess()\n",
    "    print(\"Тесты пройдены успешно\")"
   ]
  },
  {
   "cell_type": "markdown",
   "metadata": {
    "id": "-ymXLtTN0vB6"
   },
   "source": [
    "<h1>Задача 6. Напишите функцию, которая отрисовывает прямоугольник с заданными размерами (a, b) на изображении размера (m, n), цвет фона задайте в схеме RGB, как и цвет прямоугольника. Цвета также должны быть параметрами функции. Напишите аналогичную функцию но для овала с полуосями a и b. Напишите тесты для кода.\n",
    "Примечание: уравнение эллипса (границы овала) можно записать как:\n",
    "<h1>$\\frac{(x-x_0)^2}{a^2}+\\frac{(y-y_0)^2}{b^2}=1$"
   ]
  },
  {
   "cell_type": "code",
   "execution_count": 1,
   "metadata": {
    "id": "sNfl1t_kfOF4"
   },
   "outputs": [],
   "source": [
    "import numpy as np\n",
    "import matplotlib.pyplot as plt\n",
    "\n",
    "def draw_rectangle(m, n, a, b, bg_color, rect_color):\n",
    "    '''\n",
    "    Функция отрисовывает прямоугольник заданных размеров (a, b) на изображении размера (m, n) \n",
    "    с заданными цветами фона и прямоугольника.\n",
    "    '''\n",
    "    image = np.ones((m, n, 3)) * bg_color\n",
    "    image[:a, :b] = rect_color\n",
    "    \n",
    "    plt.imshow(image)\n",
    "    plt.axis('off')\n",
    "    plt.show()\n",
    "\n",
    "def draw_ellipse(m, n, a, b, bg_color, ellipse_color):\n",
    "    '''\n",
    "    Функция отрисовывает овал с полуосями a и b на изображении размера (m, n) \n",
    "    с заданными цветами фона и овала.\n",
    "    '''\n",
    "    x, y = np.meshgrid(np.linspace(-1, 1, n), np.linspace(-1, 1, m))\n",
    "    ellipse = ((x**2)/(a**2) + (y**2)/(b**2)) <= 1\n",
    "    \n",
    "    image = np.ones((m, n, 3)) * bg_color\n",
    "    image[ellipse] = ellipse_color\n",
    "    \n",
    "    plt.imshow(image)\n",
    "    plt.axis('off')\n",
    "    plt.show()\n",
    "\n",
    "# Тесты\n",
    "def test_draw_shapes():\n",
    "    draw_rectangle(200, 300, 100, 150, (1, 1, 1), (0, 0, 1))\n",
    "    draw_ellipse(200, 300, 100, 150, (1, 1, 1), (1, 0, 0))\n",
    "\n",
    "if __name__ == \"__main__\":\n",
    "    test_draw_shapes()"
   ]
  },
  {
   "cell_type": "markdown",
   "metadata": {
    "id": "S82c38oz244H"
   },
   "source": [
    "<h1>Задача 7. Дан некий временной ряд. Для данного ряда нужно найти его: математическое ожидание, дисперсию, СКО, найти все локальные максимумы и минимумы (локальный максимум - это точка, которая больше своих соседних точек, а локальный минимум - это точка, которая меньше своих соседей), а также вычислить для данного ряда другой ряд, получаемый методом скользящего среднего с размером окна $p$.\n",
    "<h1>Примечание: метод скользящего среднего подразумевает нахождение среднего из подмножетсва ряда размером $p$"
   ]
  },
  {
   "cell_type": "code",
   "execution_count": null,
   "metadata": {
    "id": "Zb9mIVge5MMt"
   },
   "outputs": [],
   "source": [
    "import numpy as np\n",
    "from scipy.signal import find_peaks\n",
    "\n",
    "def analyze_time_series(series, p):\n",
    "    '''\n",
    "    Функция для анализа временного ряда:\n",
    "    - Находит математическое ожидание, дисперсию и СКО ряда\n",
    "    - Находит все локальные максимумы и минимумы ряда\n",
    "    - Вычисляет ряд скользящего среднего с размером окна p\n",
    "    '''\n",
    "    mean = np.mean(series)\n",
    "    variance = np.var(series)\n",
    "    std_dev = np.std(series)\n",
    "    \n",
    "    local_max_idx, _ = find_peaks(series)\n",
    "    local_min_idx, _ = find_peaks(-series)\n",
    "    \n",
    "    moving_avg = np.convolve(series, np.ones(p) / p, mode='valid')\n",
    "    \n",
    "    return mean, variance, std_dev, local_max_idx, local_min_idx, moving_avg\n",
    "\n",
    "# Пример временного ряда\n",
    "time_series = np.array([3, 1, 4, 1, 5, 9, 2, 6, 5, 3])\n",
    "\n",
    "# Анализ временного ряда\n",
    "mean, variance, std_dev, local_max_idx, local_min_idx, moving_avg = analyze_time_series(time_series, p=3)\n",
    "\n",
    "# Вывод результатов\n",
    "print(\"Mean:\", mean)\n",
    "print(\"Variance:\", variance)\n",
    "print(\"Standard Deviation:\", std_dev)\n",
    "print(\"Local Maxima Index:\", local_max_idx)\n",
    "print(\"Local Minima Index:\", local_min_idx)\n",
    "print(\"Moving Average Series:\", moving_avg)"
   ]
  },
  {
   "cell_type": "markdown",
   "metadata": {
    "id": "jPkylmOX5O9n"
   },
   "source": [
    "<h1> Задача 8. Дан некоторый вектор с целочисленными метками классов, напишите функцию, которая выполняет one-hot-encoding для данного вектора\n",
    "<h1> One-hot-encoding - представление, в котором на месте метки некоторого класса стоит 1, в остальных позициях стоит 0. Например для вектора [0, 2, 3, 0] one-hot-encoding выглядит как: [[1, 0, 0, 0], [0, 0, 1, 0], [0, 0, 0, 1], [1, 0, 0, 0]]"
   ]
  },
  {
   "cell_type": "code",
   "execution_count": null,
   "metadata": {
    "id": "Y-jlnZvw56lD"
   },
   "outputs": [],
   "source": [
    "import numpy as np\n",
    "\n",
    "def one_hot_encoding(labels, num_classes):\n",
    "    '''\n",
    "    Функция для выполнения one-hot-encoding для данного вектора с целочисленными метками классов.\n",
    "    '''\n",
    "    one_hot_encoded = np.zeros((len(labels), num_classes))\n",
    "    one_hot_encoded[np.arange(len(labels)), labels] = 1\n",
    "    return one_hot_encoded\n",
    "\n",
    "# Пример входного вектора с метками классов\n",
    "labels = np.array([0, 2, 3, 0])\n",
    "num_classes = 4\n",
    "\n",
    "# Выполнение one-hot-encoding\n",
    "one_hot_encoded = one_hot_encoding(labels, num_classes)\n",
    "\n",
    "# Вывод результата\n",
    "print(one_hot_encoded)"
   ]
  }
 ],
 "metadata": {
  "colab": {
   "provenance": []
  },
  "kernelspec": {
   "display_name": "Python 3 (ipykernel)",
   "language": "python",
   "name": "python3"
  },
  "language_info": {
   "codemirror_mode": {
    "name": "ipython",
    "version": 3
   },
   "file_extension": ".py",
   "mimetype": "text/x-python",
   "name": "python",
   "nbconvert_exporter": "python",
   "pygments_lexer": "ipython3",
   "version": "3.11.2"
  }
 },
 "nbformat": 4,
 "nbformat_minor": 4
}
